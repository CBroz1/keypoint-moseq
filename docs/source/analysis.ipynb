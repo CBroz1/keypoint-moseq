{
 "cells": [
  {
   "cell_type": "markdown",
   "metadata": {},
   "source": [
    "# Analysis\n",
    "\n",
    "This notebook contains routines for analyzing the output of keypoint-MoSeq, such as\n",
    "- Annotating each recording with a group label\n",
    "- Inspection and labeling of syllables\n",
    "- Comparing syllable statistics across groups\n",
    "\n"
   ]
  },
  {
   "cell_type": "markdown",
   "metadata": {},
   "source": [
    "```{note}\n",
    "For the widgets below to work in a jupyter notebook, you must launch jupyter from a terminal in which the `keypoint_moseq` environment is active. You can double check by running `! which python` in the notebook. The output should be something like `/Users/username/miniconda3/envs/keypoint_moseq/bin/python`.\n",
    "```"
   ]
  },
  {
   "cell_type": "markdown",
   "metadata": {},
   "source": [
    "## Setup\n",
    "\n",
    "We assume you have already have run keypoint-MoSeq, and that the outputs are organized as shown below.\n",
    "```\n",
    ".\n",
    "└── <project_dir>/               ** current working directory\n",
    "    ├── <model_dir>/             ** model directory\n",
    "        ├── crowd_movies/        ** [Optional] crowd movies folder\n",
    "        ├── grid_movies/         ** [Optional] grid movies folder\n",
    "        ├── trajectory_plots/    ** [Optional] trajectory plots folder\n",
    "        └── results.h5           ** model results\n",
    "```"
   ]
  },
  {
   "cell_type": "code",
   "execution_count": null,
   "metadata": {
    "scrolled": true
   },
   "outputs": [],
   "source": [
    "import keypoint_moseq as kpms\n",
    "\n",
    "project_dir='demo_project' # the full path to the project directory\n",
    "model_dirname='model_name' # name of the model to analyze"
   ]
  },
  {
   "cell_type": "markdown",
   "metadata": {},
   "source": [
    "## Assign Groups\n",
    "\n",
    "The following cell invokes an interactive spreadsheet widget that can be used to annotate each recording with a group label. These labels are important later on for performing group-wise comparisons. The annotations are saved to a to  `[project_dir]/index.yaml`.\n",
    "\n",
    "- To assign a group label, select one or more rows, enter the group name and click `Set Group Name`\n",
    "- Click the column headers to sort rows alphabetically, and click the filter icon in each column header to filter rows by name. \n",
    "- At any point, use `Update Index File` to save current group assignments."
   ]
  },
  {
   "cell_type": "code",
   "execution_count": null,
   "metadata": {
    "scrolled": true
   },
   "outputs": [],
   "source": [
    "index_file=kpms.interactive_group_setting(project_dir, model_dirname)"
   ]
  },
  {
   "cell_type": "markdown",
   "metadata": {},
   "source": [
    "## Generate dataframes\n",
    "\n",
    "First generate a pandas dataframe called `moseq_df` that contains syllable labels and kinematic information for each frame across all the recording sessions. "
   ]
  },
  {
   "cell_type": "code",
   "execution_count": null,
   "metadata": {
    "scrolled": true
   },
   "outputs": [],
   "source": [
    "moseq_df = kpms.compute_moseq_df(project_dir, model_dirname, smooth_heading=True) \n",
    "\n",
    "print('Generated moseq_df with shape', moseq_df.shape)\n",
    "moseq_df.head()"
   ]
  },
  {
   "cell_type": "code",
   "execution_count": null,
   "metadata": {},
   "outputs": [],
   "source": [
    "import os\n",
    "save_dir = os.path.join(project_dir, model_dirname) # directory to save the moseq_df dataframe\n",
    "moseq_df.to_csv(os.path.join(save_dir, 'moseq_df.csv'), index=False)\n",
    "print('Saved `moseq_df` dataframe to', save_dir)"
   ]
  },
  {
   "cell_type": "markdown",
   "metadata": {},
   "source": [
    "Next generate a dataframe called `stats_df` that contains summary statistics for each syllable in each recording session, such as its usage frequency and its distribution of kinematic parameters."
   ]
  },
  {
   "cell_type": "code",
   "execution_count": null,
   "metadata": {},
   "outputs": [],
   "source": [
    "stats_df = kpms.compute_stats_df(\n",
    "    project_dir,\n",
    "    model_dirname,\n",
    "    moseq_df, \n",
    "    min_frequency=0.005, # threshold frequency for including a syllable in the dataframe\n",
    "    groupby=['group', 'name'], # column(s) to group the dataframe by\n",
    "    fps=30)                     # frame rate of the video from which keypoints were inferred\n",
    "\n",
    "print('Generated stats_df with shape', stats_df.shape)\n",
    "stats_df"
   ]
  },
  {
   "cell_type": "code",
   "execution_count": null,
   "metadata": {
    "mystnb": {
     "code_prompt_hide": "Export moseq_df to csv",
     "code_prompt_show": "Export moseq_df to csv"
    },
    "tags": [
     "hide-cell"
    ]
   },
   "outputs": [],
   "source": [
    "import os\n",
    "save_dir = os.path.join(project_dir, model_dirname)\n",
    "stats_df.to_csv(os.path.join(save_dir, 'stats_df'), index=False)\n",
    "print('Saved `stats_df` dataframe to', save_dir)"
   ]
  },
  {
   "cell_type": "markdown",
   "metadata": {},
   "source": [
    "## Fingerprint plot\n",
    "\n",
    "Fingerprint plots show the distribution of syllable frequencies and kinematic parameters in each recording. The plot below is saved to `[project_dir]/[model_dirname]/analysis_figures`"
   ]
  },
  {
   "cell_type": "code",
   "execution_count": null,
   "metadata": {
    "scrolled": false
   },
   "outputs": [],
   "source": [
    "kpms.plot_fingerprint(project_dir, model_dirname, moseq_df, stats_df,\n",
    "                      n_bins=50, # the number fo bins that indicates resolution of distribution \n",
    "                      range_type='robust', # range type for stats, robust filters out top and bottom 1% (\"robust\" or \"full\")\n",
    "                      color_bar=False, # boolean whether to plot colorbar\n",
    "                      figsize=(10, 6), # the size of the figure\n",
    "                      preprocessor_type='minmax') # data preprocessor for the fingerprint (\"minmax\", \"standard\", or \"none\")\n"
   ]
  },
  {
   "cell_type": "markdown",
   "metadata": {},
   "source": [
    "##  Label syllables\n",
    "\n",
    "Assign a name and short description to each syllable for downstream interpretation."
   ]
  },
  {
   "cell_type": "markdown",
   "metadata": {},
   "source": [
    "### Display trajectory plots"
   ]
  },
  {
   "cell_type": "code",
   "execution_count": null,
   "metadata": {
    "scrolled": false
   },
   "outputs": [],
   "source": [
    "kpms.show_trajectory_gif(project_dir, model_dirname)"
   ]
  },
  {
   "cell_type": "markdown",
   "metadata": {},
   "source": [
    "### Syllable labeling widget"
   ]
  },
  {
   "cell_type": "code",
   "execution_count": null,
   "metadata": {
    "scrolled": false
   },
   "outputs": [],
   "source": [
    "kpms.label_syllables(project_dir, model_dirname, moseq_df, movie_type='grid') # `movie_type` can be \"grid\" or \"crowd\""
   ]
  },
  {
   "cell_type": "markdown",
   "metadata": {},
   "source": [
    "## Compare between groups\n",
    "\n",
    "Test for statistically significant differences between groups. The code below takes two groups (an experimental group and a control group) and a syllable property (e.g. frequency or duration), and tests each syllable for whether the property differs between groups. The results are summarized in a plot that is saved to `[project_dir]/[model_dirname]/analysis_figures`.\n",
    "\n",
    "When keyword `order` is set to \"diff\", the syllabes ordering will be sorted as differences between `ctrl_group` and `exp_group`. `groups` specifies the groups to be included in the plot and it could be all the groups or a subset of the groups."
   ]
  },
  {
   "cell_type": "code",
   "execution_count": null,
   "metadata": {},
   "outputs": [],
   "source": [
    "kpms.plot_syll_stats_with_sem(\n",
    "    stats_df, project_dir, model_dirname, \n",
    "    plot_sig=True,    # whether to mark statistical significance with a star\n",
    "    thresh=0.05,      # significance threshold\n",
    "    stat='frequency', # statistic to be plotted ('duration' or 'velocity_px_s_mean')\n",
    "    order='stat',     # order syllables by overall frequency (\"stat\") or degree of difference \"diff\"\n",
    "    ctrl_group='a',   # name of the control group for statistical testing\n",
    "    exp_group='b',    # name of the experimental group for statistical testing\n",
    "    figsize=(10, 5),   # figure size    \n",
    "    groups=stats_df['group'].unique(), # groups to be plotted\n",
    ")"
   ]
  },
  {
   "cell_type": "markdown",
   "metadata": {},
   "source": [
    "### Transition matrices\n",
    "Plot heatmaps showing the transition frequencies between syllables."
   ]
  },
  {
   "cell_type": "code",
   "execution_count": null,
   "metadata": {
    "scrolled": false
   },
   "outputs": [],
   "source": [
    "normalize='bigram' # normalization method (\"bigram\", \"rows\" or \"columns\")\n",
    "trans_mats, usages, groups, syll_include=kpms.generate_transition_matrices(\n",
    "    project_dir, model_dirname, \n",
    "    normalize=normalize,\n",
    "    min_frequency=0.005)    # minimum syllable frequency to include\n",
    "\n",
    "kpms.visualize_transition_bigram(project_dir, model_dirname, \n",
    "                                 groups, trans_mats, syll_include, \n",
    "                                 normalize=normalize)"
   ]
  },
  {
   "cell_type": "markdown",
   "metadata": {},
   "source": [
    "### Syllable Transition Graph\n",
    "Render transition rates as directed graphs, where each node represents one syllable, and the directional edges represent transitions between syllables. The code below first generates a transition graph for each single group, and then generates a difference-graph for each pair of groups."
   ]
  },
  {
   "cell_type": "code",
   "execution_count": null,
   "metadata": {},
   "outputs": [],
   "source": [
    "kpms.plot_transition_graph_group(project_dir, model_dirname, \n",
    "                                 groups, trans_mats, usages, syll_include, \n",
    "                                 layout='circular') # transition graph layout (\"circular\" or \"spring\")"
   ]
  },
  {
   "cell_type": "code",
   "execution_count": null,
   "metadata": {},
   "outputs": [],
   "source": [
    "kpms.plot_transition_graph_difference(project_dir, model_dirname, \n",
    "                                      groups, trans_mats, usages, syll_include, \n",
    "                                      layout='circular') # transition graph layout (\"circular\" or \"spring\")"
   ]
  }
 ],
 "metadata": {
  "kernelspec": {
   "display_name": "Python 3 (ipykernel)",
   "language": "python",
   "name": "python3"
  },
  "language_info": {
   "codemirror_mode": {
    "name": "ipython",
    "version": 3
   },
   "file_extension": ".py",
   "mimetype": "text/x-python",
   "name": "python",
   "nbconvert_exporter": "python",
   "pygments_lexer": "ipython3",
   "version": "3.9.16"
  },
  "toc": {
   "base_numbering": 1,
   "nav_menu": {},
   "number_sections": true,
   "sideBar": true,
   "skip_h1_title": false,
   "title_cell": "Table of Contents",
   "title_sidebar": "Contents",
   "toc_cell": false,
   "toc_position": {},
   "toc_section_display": true,
   "toc_window_display": false
  }
 },
 "nbformat": 4,
 "nbformat_minor": 2
}
