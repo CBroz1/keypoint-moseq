{
 "cells": [
  {
   "attachments": {},
   "cell_type": "markdown",
   "metadata": {},
   "source": [
    "# Introduction\n",
    "\n",
    "**Welcome to Keypoint MoSeq Analysis Visualization Notebook!**\n",
    "\n",
    "This notebook contains a collection of analyses we typically perform on behavioral recordings to better understand mouse behavior. Examples of such analyses are:\n",
    "- adding experimental group labels to the session\n",
    "- descriptive labeling of individual syllables\n",
    "- comparing syllable usage across different experimental groups\n",
    "- comparing syllable transition structure across different experimental groups\n",
    "\n",
    "The goal of this notebook is to provide you with a basic summary of syllable usage and sequencing statistics across experimental conditions and to help generate more specific questions related to observations you may identify here.\n",
    "If you want to perform more specific analyses, you can export the MoSeq data (see below) to use with the tool (i.e., Excel, Python, R, Matlab) you're most comfortable with.\n",
    "\n",
    "In this notebook, the **Markdown** above each cell describes the purpose of the cell(s), cell output, and the instructions for running the cell(s) and/or interacting with the widget. The **inline code comments** in the code block provides contextual information about the function, code structure, and parameters.\n",
    "\n",
    "***"
   ]
  },
  {
   "attachments": {},
   "cell_type": "markdown",
   "metadata": {},
   "source": [
    "# Project setup\n",
    "\n",
    "## Files and Directory Structure\n",
    "To run this notebook, you need the following files and folders in your data directory:\n",
    "- `progress.yaml` - this file stores all the required paths used throughout the notebooks. The first time you run this notebook, a `progress.yaml` file will be created for you. If you have already run this notebook before, you can load the `progress.yaml` file by running the cell below.\n",
    "- `config.yml` - this file stores the configuration parameters for the pipeline.\n",
    "- `index.yaml` - this file stores the metadata for each recording and group labels for different experimental conditions. The first time you run the interactive group setting component, a `index.yaml` file will be created for you. \n",
    "- `<model_dir>` - the folder that contains the model and the model results. By default, it is the timestamp when the model is initialized. The folder should contain:\n",
    "  - `crowd_movies`\n",
    "  - `grid_movies`\n",
    "  - `trajectory_plots`\n",
    "  - `checkpoint.p`\n",
    "  - `results.h5`\n",
    "\n",
    "At this stage, your base directory should look something like what's shown below:\n",
    "```\n",
    ".\n",
    "└── <project_dir>/\n",
    "    ├── <model_dir>/\n",
    "        ├── crowd_movies/\n",
    "        ├── grid_movies/\n",
    "        ├── trajectory_plots/\n",
    "        ├── checkpoint.p\n",
    "        └── results.h5\n",
    "    ...\n",
    "    └── progress.yaml\n",
    "\n",
    "```"
   ]
  },
  {
   "attachments": {},
   "cell_type": "markdown",
   "metadata": {},
   "source": [
    "## Set up notebook for interactive widgets\n",
    "The analysis notebook uses interactive widgets to help you visualize and explore the data. To enable the widgets, the first time you run this notebook, you need to run the cell below."
   ]
  },
  {
   "cell_type": "code",
   "execution_count": null,
   "metadata": {},
   "outputs": [],
   "source": [
    "# Install and Enable widget extensions configurator\n",
    "!jupyter nbextension install --py jupyter_nbextensions_configurator --sys-prefix\n",
    "!jupyter nbextension enable --py --sys-prefix widgetsnbextension\n",
    "!jupyter nbextension enable --py --sys-prefix  --py qgrid\n",
    "\n",
    "# Install bokeh extensions\n",
    "!jupyter nbextension install --sys-prefix --symlink --py jupyter_bokeh\n",
    "!jupyter nbextension enable jupyter_bokeh --py --sys-prefix"
   ]
  },
  {
   "attachments": {},
   "cell_type": "markdown",
   "metadata": {},
   "source": [
    "## Load Progress\n",
    "\n",
    "**[IMPORTANT] ALWAYS run this cell when you open this notebook.** If you don't, the analysis functions won't work. Please ensure you run the Load Progress cell below before running any analysis modules.\n",
    "\n",
    "MoSeq uses a [progress.yaml](https://github.com/dattalab/moseq2-app/wiki/Directory-Structures-and-yaml-Files-in-MoSeq-Pipeline#progressyaml) file to keep track of the progress. \n",
    "\n",
    "The following cell generates a `progress.yaml` file or loads your progress from the last saved checkpoint.  This cell checks if there is a  `progress.yaml` in the project folder and generate/load a dictionary contains the necessary paths to use the features in the rest of the notebook. The cell output displays the content in `progress_paths`.\n",
    "\n",
    "- **Specify the filename to the progress file**. No change is needed if the notebooks are in the project folder.\n",
    "- **Run the following cell**."
   ]
  },
  {
   "cell_type": "code",
   "execution_count": null,
   "metadata": {},
   "outputs": [],
   "source": [
    "from keypoint_moseq.analysis import track_progress\n",
    "\n",
    "project_dir = './' # project directory\n",
    "model_dirname = 'model_dir' # model directory name for the model to analyze\n",
    "input_dir = './videos' # input video directory path\n",
    "progress_filename = 'progress.yaml' # progress file name\n",
    "\n",
    "progress_paths = track_progress(model_dirname, project_dir, input_dir, 'progress.yaml')"
   ]
  },
  {
   "attachments": {},
   "cell_type": "markdown",
   "metadata": {},
   "source": [
    "## Select a different model to analyze"
   ]
  },
  {
   "cell_type": "code",
   "execution_count": null,
   "metadata": {},
   "outputs": [],
   "source": [
    "from os.path import join\n",
    "from keypoint_moseq.analysis import update_model_progress\n",
    "\n",
    "model_dirname = model_dirname # select desired model name\n",
    "\n",
    "# update all relevant paths for the new model\n",
    "progress_paths = update_model_progress(progress_paths, model_dirname, join(project_dir, 'progress.yaml'))"
   ]
  },
  {
   "attachments": {},
   "cell_type": "markdown",
   "metadata": {},
   "source": [
    "# Assign Groups\n",
    "\n",
    "Sessions can be given group labels for analyses comparing different cohorts or experimental conditions and the labels will be stored in the `index.yaml` file. You can find more abaout this widget in the wiki.\n",
    "\n",
    "The following cell creates the `index.yaml` file if necessary, runs the widget to assign groups and updates group information to the `index.yaml`.\n",
    "\n",
    "**Instructions:**\n",
    "- **Run the following cell**.\n",
    "- **Click the column header** to sort the column and use the filter icon to filter if needed.\n",
    "- **Click on the session** to select the session. **To select multiple sessions, click the sessions while holding down the [Ctrl]/[Command] key, or click the first and last entry while holding down the [Shift] key.**\n",
    "- **Enter the group name in the `Desired Group Name` field** and click `Set Group` to update the `group` column for the selected sessions.\n",
    "- Click the `Update Index File` button to save current group assignments.\n"
   ]
  },
  {
   "cell_type": "code",
   "execution_count": null,
   "metadata": {},
   "outputs": [],
   "source": [
    "from keypoint_moseq.wrappers import interactive_group_setting\n",
    "progress_paths = interactive_group_setting(progress_paths)"
   ]
  },
  {
   "attachments": {},
   "cell_type": "markdown",
   "metadata": {
    "vscode": {
     "languageId": "plaintext"
    }
   },
   "source": [
    "# Compute Syllable Satistics"
   ]
  },
  {
   "attachments": {},
   "cell_type": "markdown",
   "metadata": {},
   "source": [
    "## Compute `moseq_df`\n",
    "The following cell generates a `DataFrame` of scalar values computed during the extraction step aligned to the model labels. All sessions are concatenated to form this `DataFrame`. Each row is one \"frame\" which corresponds to one sample from the original depth video. Each column is a different entry.\n",
    "To view the entries of this `DataFrame`, run `print(moseq_df.columns)`. This `DataFrame` can be used to plot the scalar feature values for any session over time.\n",
    "\n",
    "You will notice multiple columns with syllable labels, `syllable` and `syllable_reindexed`. The `syllable` column contains the syllable labels as they were extracted from the model. The `syllable_reindexed` column contains the syllable labels after they have been sorted by frequency and reindexed such that the lower syllable index corresponds to the most frequently used syllable. `smooth_heading` indicates whether the output heading is smoothed or not. `smooth_heading` is `True` if the output heading is smoothed and `False` if the output heading is not smoothed.\n",
    "\n",
    "**Instructions:**\n",
    "- **Run the following cell**."
   ]
  },
  {
   "cell_type": "code",
   "execution_count": null,
   "metadata": {},
   "outputs": [],
   "source": [
    "from keypoint_moseq.analysis import compute_moseq_df\n",
    "\n",
    "# compute session scalar data\n",
    "base_dir = progress_paths['base_dir']\n",
    "model_name = progress_paths['model_name']\n",
    "index_file = progress_paths['index_file']\n",
    "moseq_df = compute_moseq_df(base_dir, model_name, index_file, smooth_heading=True)\n",
    "print('moseq_df size: ', moseq_df.shape[0], 'rows;', moseq_df.shape[1], 'columns')\n",
    "\n",
    "# this line prints out the first 5 rows of the dataframe in table format. It is used to\n",
    "# get a sense of what is contained in the DataFrame\n",
    "moseq_df.head()"
   ]
  },
  {
   "attachments": {},
   "cell_type": "markdown",
   "metadata": {},
   "source": [
    "## Export `moseq_df`\n",
    "\n",
    "You can export the `moseq_df` to a csv file (or other alternative file types) for further analysis using the following cell. [See here](https://pandas.pydata.org/pandas-docs/stable/user_guide/io.html) for a list of alternative file formats to save `moseq_df`.\n",
    "\n",
    "**Note:** it can take quite a while to export the `moseq_df`, especially if it is saved as a `.csv` file. Check out [pandas's user guide](https://pandas.pydata.org/pandas-docs/stable/user_guide/io.html) to see if other formats will work better for you.\n",
    "\n",
    "**Instructions:**\n",
    "- **Specify the folder** you want to save the dataframe in `save_path`. By default, the file will be saved to `base_dir`.\n",
    "- **Run the following cell** to save `moseq_df` as a CSV file."
   ]
  },
  {
   "cell_type": "code",
   "execution_count": null,
   "metadata": {},
   "outputs": [],
   "source": [
    "# Save `moseq_df` as a csv file\n",
    "from os.path import exists, join\n",
    "\n",
    "# Specify the place you want to save the dataframe in `save_path`\n",
    "save_path = progress_paths['model_dir']  # save the dataframe in the model specific folder\n",
    "\n",
    "# exports the dataframe\n",
    "filename = 'moseq_df.csv'\n",
    "# here we use .to_csv to export the dataframe, but you can change it to try other ways of saving your data\n",
    "moseq_df.to_csv(join(save_path, filename), index=False)\n",
    "\n",
    "print('DataFrame is saved:', join(save_path, filename))"
   ]
  },
  {
   "attachments": {},
   "cell_type": "markdown",
   "metadata": {},
   "source": [
    "## Compute `stats_df`\n",
    "`stats_df` is a `DataFrame` that contains statistical summaries (i.e., min, max, mean, std) of scalar values (kinematic values such as heading and velocity) associated with each syllable, as well as the frequency each syllable is expressed. By default, it is computed using the features included in `moseq_df` for each session independently. This dataframe will be used to plot syllable statistics and perform hypothesis testing.\n",
    "\n",
    "The function can group data into whichever categories you supply into the `groupby` parameter.\n",
    "By default, we group by \"group\" (the experimental cohort), \"uuid\" (each unique recording session) and \"file_name\"\n",
    "Under the hood, we use `pandas` to perform the `groupby` calculation.\n",
    "To learn more about `pandas`'s `groupby` capabilities, check out [their documentation](https://pandas.pydata.org/docs/user_guide/groupby.html#groupby) on the subject.\n",
    "\n",
    "By default, each row of the `stats_df` contains the average syllable usage for one syllable for one group (experimental cohort) within one uuid (session). Changing the contents of the `groupby` variable will change the contents of the `stats_df`.\n",
    "\n",
    "**Instructions:**\n",
    "- **Run the following cell**."
   ]
  },
  {
   "cell_type": "code",
   "execution_count": null,
   "metadata": {},
   "outputs": [],
   "source": [
    "# compute syllable usage and scalar statistics\n",
    "from keypoint_moseq.analysis import compute_stats_df\n",
    "\n",
    "syllable_key = 'syllables_reindexed'  # either 'labels (usage sort)', 'labels', or 'labels (frames sort)'\n",
    "groupby = ['group', 'uuid', 'file_name']  # can be any categorical variables\n",
    "usage_normalization = True # syllable usages within one session add up to 1 when usage_normalization is True\n",
    "threshold = 0.005  # threshold for syllable usage to include in the dataframe\n",
    "fps = 30 # frame rate of the video\n",
    "\n",
    "stats_df = compute_stats_df(moseq_df, threshold=threshold, groupby=groupby, fps=fps, syll_key=syllable_key, normalize=usage_normalization)\n",
    "print('The shape of stats_df', stats_df.shape)\n",
    "stats_df.head()"
   ]
  },
  {
   "attachments": {},
   "cell_type": "markdown",
   "metadata": {},
   "source": [
    "## Export `stats_df`\n",
    "\n",
    "You can export the `stats_df` to a csv file for further analysis using the following cell.\n",
    "\n",
    "**Instructions:**\n",
    "- **Specify the place** you want to save the dataframe in `save_path`. By default, the file will be saved to `base_dir`.\n",
    "- **Run the following cell** to save `stats_df` as a CSV file."
   ]
  },
  {
   "cell_type": "code",
   "execution_count": null,
   "metadata": {},
   "outputs": [],
   "source": [
    "# Save `stats_df` as a csv file\n",
    "from os.path import exists, join\n",
    "\n",
    "# Specify the place you want to save the dataframe in `save_path`\n",
    "save_path = progress_paths['model_dir']  # save the dataframe in the model specific folder\n",
    "\n",
    "# exports the dataframe\n",
    "filename = 'stats_df.csv'\n",
    "# here we use .to_csv to export the dataframe, but you can change it to try other ways of saving your data\n",
    "stats_df.to_csv(join(save_path, filename), index=False)\n",
    "\n",
    "print('DataFrame is saved:', join(save_path, filename))"
   ]
  },
  {
   "attachments": {},
   "cell_type": "markdown",
   "metadata": {},
   "source": [
    "## Generate Behavioral Summary (Fingerprints)\n",
    "Fingerprints summarize behavior by showing distributions of scalars (eg. position, velocity, height, and length) and syllables.\n",
    "These plots can be used as a useful diagnostic tool.\n",
    "Sessions where the mouse wasn't extracted properly or moves too much or little can be identified in these plots.\n",
    "\n",
    "The following cell generates the summary dataframe and plots the behavioral summary. The fingerprint plot will be automatically saved as png and pdf in the `plots` folder in the model directory.\n",
    "\n",
    "**Instructions:**\n",
    "- **Set `n_bins` variable** to an integer to specify the number of bins for the MoSeq scalar values. Set `n_bins` variable to `None` if you want the number of bins to match the number of syllables. `n_bins` does not bin syllables.\n",
    "- **Set `range_type` variable** to 'robust' to include data ranging from 1 percentile top 99 percentile. **Set `range_type` variable** to 'full' to include all the data.\n",
    "- **Assign an `sklearn.preprocessing` object to `preprocessor` variable** if you want to scale the values by session. `preprocessor` variable is set to `None`, the figure will show the proportion of data filling each bin.\n",
    "- **Run the following cell.**\n"
   ]
  },
  {
   "cell_type": "code",
   "execution_count": null,
   "metadata": {},
   "outputs": [],
   "source": [
    "from keypoint_moseq.analysis import create_fingerprint_dataframe, plotting_fingerprint\n",
    "from sklearn.preprocessing import MinMaxScaler, StandardScaler\n",
    "\n",
    "stat_type = 'mean'\n",
    "n_bins = 100  # resolution of distribution \n",
    "range_type = 'robust'  # robust or full\n",
    "preprocessor = MinMaxScaler()\n",
    "\n",
    "summary, range_dict = create_fingerprint_dataframe(moseq_df, stats_df, stat_type=stat_type, n_bins=n_bins, range_type=range_type)\n",
    "plotting_fingerprint(summary, range_dict)"
   ]
  },
  {
   "attachments": {},
   "cell_type": "markdown",
   "metadata": {},
   "source": [
    "#  Syllable Visualization and Labelling Tool\n",
    "Syllables can be visualized in the form of crowd movies, grid movies and trajectory plots. Crowd movies are movies that superimpose examples of mouse keypoints in each syllable labeled by MoSeq. Grid movies are examples of mouse videos in each syllable visulized in a grid and the dot on the mouse signify the onset of the syllable. Trajectory plots are plots of the mouse keypoint skeleton trajectory in each syllable. These visualizations can be used to learn which behaviors are captured by each syllable and you can assign behavioral labels and short descriptions to syllables by observing the visualizations for further analysis\n",
    "\n",
    "By default, the displayed syllables are the syllables with a overall frequency of over 5%. After running the syllable labeler tool, syllable crowd movies based on the model of interest will be generated in its model-specific folder, as well as a syll_info.yaml file for later analysis. At this stage, syllables are relabeled by usage."
   ]
  },
  {
   "attachments": {},
   "cell_type": "markdown",
   "metadata": {},
   "source": [
    "## Display trajectory plots\n",
    "\n",
    "**Instructions:**\n",
    "- **Run the following cell** to display the trajectory plot for all included syllables."
   ]
  },
  {
   "cell_type": "code",
   "execution_count": null,
   "metadata": {},
   "outputs": [],
   "source": [
    "from keypoint_moseq.widgets import show_trajectory_gif\n",
    "\n",
    "show_trajectory_gif(progress_paths)"
   ]
  },
  {
   "attachments": {},
   "cell_type": "markdown",
   "metadata": {},
   "source": [
    "## Syllable labeling tool\n",
    "\n",
    "**Instructions:**\n",
    "- **Run the following cell.** Specify the movie type to show if necessary. The default is displaying grid movies.\n",
    "- **Input the syllable behavioral label and short description** in the text fields.\n",
    "- Click `Save Setting` to save the syllable label and description for later analysis.\n",
    "- Use `Next` and `Previous` to navigate between syllables and the syllable label and description will be automatically saved when using these buttons."
   ]
  },
  {
   "cell_type": "code",
   "execution_count": null,
   "metadata": {},
   "outputs": [],
   "source": [
    "from keypoint_moseq.wrappers import label_syllables\n",
    "movie_type = 'grid' # either 'grid' or 'crowd'\n",
    "progress_paths = label_syllables(progress_paths, movie_type = movie_type)"
   ]
  },
  {
   "attachments": {},
   "cell_type": "markdown",
   "metadata": {},
   "source": [
    "# Syllable Statistics Graphing\n",
    "Syllable statistics provide information about the behavioral patterns"
   ]
  },
  {
   "cell_type": "code",
   "execution_count": null,
   "metadata": {},
   "outputs": [],
   "source": [
    "from keypoint_moseq.analysis import plot_syll_stats_with_sem\n",
    "\n",
    "# ordering of syllables, could be 'stat' or 'diff'\n",
    "ordering = 'stat'\n",
    "# statistic to be plotted, could be ,'duration','velocity_px_s_mean'\n",
    "stat = 'frequency'\n",
    "# groups to be plotted\n",
    "groups = stats_df['group'].unique()\n",
    "# name of the control group\n",
    "ctrl_group='a'\n",
    "# name of the experimental group\n",
    "exp_group='b'\n",
    "# boolean for whether the dots are connected\n",
    "join=False\n",
    "# boolean for whether to plot the significant stars\n",
    "plot_sig=True\n",
    "# significance threshold\n",
    "thresh=0.05\n",
    "\n",
    "plot_syll_stats_with_sem(stats_df, progress_paths, plot_sig = plot_sig, thresh=thresh, stat=stat, ordering=ordering, \n",
    "                         groups=groups, ctrl_group=ctrl_group, exp_group=exp_group, join=join, figsize=(10, 5))                          "
   ]
  },
  {
   "attachments": {},
   "cell_type": "markdown",
   "metadata": {},
   "source": [
    "## Transition matrices\n",
    "Transition matrices compactly represent the frequency any syllable transitions into any other syllable and is one way to describe structure in behavior.\n",
    "The row of the transition matrix represents an incoming syllable, while the column represents the outgoing syllable and the value at a specific row and column position represent the frequency the incoming syllable transitions into the outgoing syllable.\n",
    "\n",
    "These plots can help visualize gross changes in the structure of behavior between two experimental groups. For example, certain syllables that frequently transition into one set of syllables in one experimental condition might transition into a completely different set in another experimental condition."
   ]
  },
  {
   "cell_type": "code",
   "execution_count": null,
   "metadata": {},
   "outputs": [],
   "source": [
    "from keypoint_moseq.analysis import generate_transition_matrices\n",
    "\n",
    "normalize='bigram'\n",
    "trans_mats, usages, groups = generate_transition_matrices(progress_paths, normalize=normalize)\n",
    "visualize_transition_bigram(groups,trans_mats, normalize=normalize)"
   ]
  },
  {
   "attachments": {},
   "cell_type": "markdown",
   "metadata": {},
   "source": [
    "## Syllable Transition Graph\n",
    "Transition matrices can also be visualized as directed graphs, where each node of the graph represents one syllable, and the directional edges represent transitions between syllables.\n",
    "The **node size** represents **syllable usage** and **edge thickness** represents the **syllable to syllable transition frequency**.\n",
    "This widget can also highlight the differences in transition frequencies between multiple experimental groups.\n",
    "\n",
    "**Instructions:**\n",
    "- **Run the following 2 cells**. The first cell changes visualize the transition graphs by group and the second visualize the difference between two groups."
   ]
  },
  {
   "cell_type": "code",
   "execution_count": null,
   "metadata": {},
   "outputs": [],
   "source": [
    "from keypoint_moseq.analysis import plot_transition_graph_group\n",
    "layout='circular' # could be circular or spring\n",
    "plot_transition_graph_group(groups, trans_mats,usages, layout=layout)"
   ]
  },
  {
   "cell_type": "code",
   "execution_count": null,
   "metadata": {},
   "outputs": [],
   "source": [
    "from keypoint_moseq.analysis import plot_transition_graph_difference\n",
    "layout='circular' # could be circular or spring\n",
    "plot_transition_graph_difference(groups, trans_mats,usages, layout=layout)"
   ]
  }
 ],
 "metadata": {
  "language_info": {
   "name": "python"
  },
  "orig_nbformat": 4
 },
 "nbformat": 4,
 "nbformat_minor": 2
}
