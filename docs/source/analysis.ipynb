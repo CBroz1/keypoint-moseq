{
 "cells": [
  {
   "cell_type": "markdown",
   "metadata": {},
   "source": [
    "# Analysis\n",
    "\n",
    "This notebook contains routines for analyzing the output of keypoint-MoSeq."
   ]
  },
  {
   "cell_type": "markdown",
   "metadata": {},
   "source": [
    "```{note}\n",
    "To use the (optional) interactive widgets below, you must launch jupyter from a terminal in which the keypoint_moseq environment is active. \n",
    "```"
   ]
  },
  {
   "cell_type": "markdown",
   "metadata": {},
   "source": [
    "## Setup\n",
    "\n",
    "We assume you have already have keypoint-MoSeq outputs that are organized as follows.\n",
    "```\n",
    "<project_dir>/               ** current working directory\n",
    "└── <model_name>/            ** model directory\n",
    "    ├── results.h5           ** model results\n",
    "    └── grid_movies/         ** [Optional] grid movies folder\n",
    "```\n",
    "Use the code below to define your project directory and model name, and to check if the required jupyter extensions are enabled. If the jupyter extensions are not enabled and you would like to use the optional interactive widgets below, try running the [installation commands](https://keypoint-moseq.readthedocs.io/en/latest/install.html#install-jupyter-extensions) and confirm that jupyter was launched from the `keypoint_moseq` environment, as mentioned in the note above. "
   ]
  },
  {
   "cell_type": "code",
   "execution_count": null,
   "metadata": {},
   "outputs": [],
   "source": [
    "import keypoint_moseq as kpms\n",
    "\n",
    "project_dir='path/to/project' # the full path to the project directory\n",
    "model_name='model_name' # name of model to analyze (e.g. something like `2023_05_23-15_19_03`)"
   ]
  },
  {
   "cell_type": "markdown",
   "metadata": {},
   "source": [
    "## Assign Groups\n",
    "\n",
    "The goal of this step is to assign group labels (such as \"mutant\" or \"wildtype\") to each recording. These labels are important later for performing group-wise comparisons. The annotations are saved to a to  `{project_dir}/index.csv`."
   ]
  },
  {
   "cell_type": "markdown",
   "metadata": {},
   "source": [
    "**Option 1: Interactive group setting widget**\n",
    "\n",
    "Launch `interactive_group_setting` using the code below.\n",
    "\n",
    "- Click cells in the \"group\" column to edit the group name.\n",
    "- When you are done adding group labels, use `Save group info` to save current group assignments.\n",
    "  \n",
    "If the widget does not appear, try restarting your Jupyter Notebook kernel and re-run the cells. Alternatively, you can edit index.csv in Excel or LibreOffice Calc."
   ]
  },
  {
   "cell_type": "code",
   "execution_count": null,
   "metadata": {},
   "outputs": [],
   "source": [
    "kpms.interactive_group_setting(project_dir, model_name)"
   ]
  },
  {
   "cell_type": "markdown",
   "metadata": {},
   "source": [
    "## Generate dataframes\n",
    "\n",
    "Generate a pandas dataframe called `moseq_df` that contains syllable labels and kinematic information for each frame across all the recording sessions. "
   ]
  },
  {
   "cell_type": "code",
   "execution_count": null,
   "metadata": {},
   "outputs": [],
   "source": [
    "moseq_df = kpms.compute_moseq_df(project_dir, model_name, smooth_heading=True) \n",
    "moseq_df"
   ]
  },
  {
   "cell_type": "code",
   "execution_count": null,
   "metadata": {
    "mystnb": {
     "code_prompt_hide": "Export moseq_df to csv",
     "code_prompt_show": "Export moseq_df to csv"
    },
    "tags": [
     "hide-cell"
    ]
   },
   "outputs": [],
   "source": [
    "import os\n",
    "save_dir = os.path.join(project_dir, model_name) # directory to save the moseq_df dataframe\n",
    "moseq_df.to_csv(os.path.join(save_dir, 'moseq_df.csv'), index=False)\n",
    "print('Saved `moseq_df` dataframe to', save_dir)"
   ]
  },
  {
   "cell_type": "markdown",
   "metadata": {},
   "source": [
    "Next generate a dataframe called `stats_df` that contains summary statistics for each syllable in each recording session, such as its usage frequency and its distribution of kinematic parameters."
   ]
  },
  {
   "cell_type": "code",
   "execution_count": null,
   "metadata": {},
   "outputs": [],
   "source": [
    "stats_df = kpms.compute_stats_df(\n",
    "    project_dir,\n",
    "    model_name,\n",
    "    moseq_df, \n",
    "    min_frequency=0.005,       # threshold frequency for including a syllable in the dataframe\n",
    "    groupby=['group', 'name'], # column(s) to group the dataframe by\n",
    "    fps=30)                    # frame rate of the video from which keypoints were inferred\n",
    "\n",
    "stats_df"
   ]
  },
  {
   "cell_type": "code",
   "execution_count": null,
   "metadata": {
    "mystnb": {
     "code_prompt_hide": "Export stats_df to csv",
     "code_prompt_show": "Export stats_df to csv"
    },
    "tags": [
     "hide-cell"
    ]
   },
   "outputs": [],
   "source": [
    "import os\n",
    "save_dir = os.path.join(project_dir, model_name)\n",
    "stats_df.to_csv(os.path.join(save_dir, 'stats_df'), index=False)\n",
    "print('Saved `stats_df` dataframe to', save_dir)"
   ]
  },
  {
   "cell_type": "markdown",
   "metadata": {},
   "source": [
    "##  Label syllables\n",
    "\n",
    "**Interactive widget**\n",
    "\n",
    "The following cell invoke an interactive widget to assign a name and short description to each syllable for downstream interpretation. These annotations are saved to `{project_dir}/{model_name}/syll_info.csv`.\n",
    "\n",
    "- Select the syllable to from the dropdown to display syllable grid movie.\n",
    "- Click `label` in the target syllable row and enter a syllable name.\n",
    "- [Optional] Click `short description` in the target syllable row and enter a short decription.\n",
    "- When you are done adding syllable labels, use `Save syllable info` to save current group assignments.\n",
    "\n",
    "If the widget does not appear, try restarting your Jupyter Notebook kernel and re-run the cells. Alternatively, you can edit syll_info.csv in Excel or LibreOffice Calc."
   ]
  },
  {
   "cell_type": "code",
   "execution_count": null,
   "metadata": {},
   "outputs": [],
   "source": [
    "kpms.label_syllables(project_dir, model_name, moseq_df) "
   ]
  },
  {
   "cell_type": "markdown",
   "metadata": {},
   "source": [
    "## Compare between groups\n",
    "\n",
    "Test for statistically significant differences between groups of recordings. The code below takes a syllable property (e.g. frequency or duration), plots its disribution for each syllable across for each group, and also tests whether the property differs significantly between groups. The results are summarized in a plot that is saved to `{project_dir}/{model_name}/analysis_figures`.\n",
    "\n",
    "There are two options for setting the order of syllables along the x-axis. When `order='stat'`, syllables are sorted by the mean value of the statistic. When `order='diff'`, syllables are sorted by the magnitude of difference between two groups that are determined by the `ctrl_group` and `exp_group` keywords. Note `ctrl_group` and `exp_group` are not related to significance testing."
   ]
  },
  {
   "cell_type": "code",
   "execution_count": null,
   "metadata": {},
   "outputs": [],
   "source": [
    "kpms.plot_syll_stats_with_sem(\n",
    "    stats_df, project_dir, model_name,\n",
    "    plot_sig=True,    # whether to mark statistical significance with a star\n",
    "    thresh=0.05,      # significance threshold\n",
    "    stat='frequency', # statistic to be plotted (e.g. 'duration' or 'velocity_px_s_mean')\n",
    "    order='stat',     # order syllables by overall frequency (\"stat\") or degree of difference (\"diff\")\n",
    "    ctrl_group='a',   # name of the control group for statistical testing\n",
    "    exp_group='b',    # name of the experimental group for statistical testing\n",
    "    figsize=(8, 4),   # figure size    \n",
    "    groups=stats_df['group'].unique(), # groups to be plotted\n",
    ");"
   ]
  },
  {
   "cell_type": "markdown",
   "metadata": {},
   "source": [
    "### Transition matrices\n",
    "Generate heatmaps showing the transition frequencies between syllables."
   ]
  },
  {
   "cell_type": "code",
   "execution_count": null,
   "metadata": {},
   "outputs": [],
   "source": [
    "normalize='bigram' # normalization method (\"bigram\", \"rows\" or \"columns\")\n",
    "\n",
    "trans_mats, usages, groups, syll_include=kpms.generate_transition_matrices(\n",
    "    project_dir, model_name, normalize=normalize,\n",
    "    min_frequency=0.005 # minimum syllable frequency to include\n",
    ")    \n",
    "\n",
    "kpms.visualize_transition_bigram(\n",
    "    project_dir, model_name, groups, trans_mats, syll_include, normalize=normalize, \n",
    "    show_syllable_names=True # label syllables by index (False) or index and name (True)\n",
    ")"
   ]
  },
  {
   "cell_type": "markdown",
   "metadata": {},
   "source": [
    "### Syllable Transition Graph\n",
    "Render transition rates in graph form, where nodes represent syllables and edges represent transitions between syllables, with edge showing transition rate for each pair of syllables (secifically the max of the two transition rates in each direction). The code below first generates a transition graph for each single group, and then generates a difference-graph for each pair of groups."
   ]
  },
  {
   "cell_type": "code",
   "execution_count": null,
   "metadata": {},
   "outputs": [],
   "source": [
    "kpms.plot_transition_graph_group(\n",
    "    project_dir, model_name, \n",
    "    groups, trans_mats, usages, syll_include, \n",
    "    layout='circular',        # transition graph layout (\"circular\" or \"spring\")\n",
    "    show_syllable_names=False # label syllables by index (False) or index and name (True)\n",
    ")"
   ]
  },
  {
   "cell_type": "code",
   "execution_count": null,
   "metadata": {},
   "outputs": [],
   "source": [
    "kpms.plot_transition_graph_difference(project_dir, model_name, \n",
    "                                      groups, trans_mats, usages, syll_include, \n",
    "                                      layout='circular') # transition graph layout (\"circular\" or \"spring\")"
   ]
  },
  {
   "cell_type": "code",
   "execution_count": null,
   "metadata": {},
   "outputs": [],
   "source": []
  }
 ],
 "metadata": {
  "celltoolbar": "Edit Metadata",
  "kernelspec": {
   "display_name": "Python 3 (ipykernel)",
   "language": "python",
   "name": "python3"
  },
  "language_info": {
   "codemirror_mode": {
    "name": "ipython",
    "version": 3
   },
   "file_extension": ".py",
   "mimetype": "text/x-python",
   "name": "python",
   "nbconvert_exporter": "python",
   "pygments_lexer": "ipython3",
   "version": "3.9.16"
  },
  "toc": {
   "base_numbering": 1,
   "nav_menu": {},
   "number_sections": true,
   "sideBar": true,
   "skip_h1_title": false,
   "title_cell": "Table of Contents",
   "title_sidebar": "Contents",
   "toc_cell": false,
   "toc_position": {},
   "toc_section_display": true,
   "toc_window_display": false
  }
 },
 "nbformat": 4,
 "nbformat_minor": 4
}
