{
 "cells": [
  {
   "attachments": {},
   "cell_type": "markdown",
   "metadata": {},
   "source": [
    "To run this notebook, please make sure you are in the environment that has the `keypoint_moseq` package. If you use the conda environment named `keypoint_moseq`, please run `conda activate keypoint_moseq` to activate the environment.\n",
    "\n",
    "This notebook contains a collection of analyses we typically perform on behavioral recordings to better understand mouse behavior. To make the files and Jupyter notebooks more organized, it is recommended to have one folder for each project.\n",
    "\n",
    "Your base directory should look like this at the beginning of the analysis notebook:\n",
    "```\n",
    ".\n",
    "└── <project_dir>/               ** current working directory\n",
    "    ├── <model_dir>/             ** model directory\n",
    "        ├── crowd_movies/        ** [Optional] crowd movies folder\n",
    "        ├── grid_movies/         ** [Optional] grid movies folder\n",
    "        ├── trajectory_plots/    ** [Optional] trajectory plots folder\n",
    "        ├── checkpoint.p         ** checkpoint file\n",
    "        └── results.h5           ** model results\n",
    "    ├── <keypointdata_dir>/      ** [Optional] video of keypoint input data (necessary for generating crowd movies, and trajectory plots and grid movies)\n",
    "    ├── tutorial.ipynb           ** the notebook for modeling the data\n",
    "    └── analysis.ipynb            ** this notebook\n",
    "\n",
    "```"
   ]
  },
  {
   "attachments": {},
   "cell_type": "markdown",
   "metadata": {},
   "source": [
    "# Project setup\n",
    "\n",
    "Set up the variable for the path to the project directorry and the model name."
   ]
  },
  {
   "cell_type": "code",
   "execution_count": null,
   "metadata": {},
   "outputs": [],
   "source": [
    "import keypoint_moseq as kpms\n",
    "\n",
    "model_dirname='model_dir' # model directory name for the model to analyze\n",
    "project_dir='./demo_project' # the full path to the project directory"
   ]
  },
  {
   "attachments": {},
   "cell_type": "markdown",
   "metadata": {},
   "source": [
    "# Assign Groups\n",
    "\n",
    "The following cell creates the `index.yaml` file.\n",
    "\n",
    "**Instructions:**\n",
    "- **Click the column header** to sort the column and use the filter icon to filter if needed.\n",
    "- **Click on the session** to select the session. **To select multiple sessions, click the sessions while holding down the [Ctrl]/[Command] key, or click the first and last entry while holding down the [Shift] key.**\n",
    "- **Enter the group name in the `Desired Group Name` field** and click `Set Group` to update the `group` column for the selected sessions.\n",
    "- Click the `Update Index File` button to save current group assignments.\n",
    "\n",
    "Notes: If only the text box input field is display and there is no table, please fully shut down Jupyter and restart the server."
   ]
  },
  {
   "cell_type": "code",
   "execution_count": null,
   "metadata": {},
   "outputs": [],
   "source": [
    "index_file=kpms.interactive_group_setting(project_dir, model_dirname)"
   ]
  },
  {
   "attachments": {},
   "cell_type": "markdown",
   "metadata": {
    "vscode": {
     "languageId": "plaintext"
    }
   },
   "source": [
    "# Compute Syllable Satistics"
   ]
  },
  {
   "attachments": {},
   "cell_type": "markdown",
   "metadata": {},
   "source": [
    "## Compute `moseq_df`\n",
    "The following cell generates a `DataFrame` of kinematic values for each frame and each frame is aligned to its model label. "
   ]
  },
  {
   "cell_type": "code",
   "execution_count": null,
   "metadata": {},
   "outputs": [],
   "source": [
    "# import os\n",
    "# index_file=os.path.join(project_dir, model_dirname, 'index.yaml')\n",
    "\n",
    "moseq_df = kpms.compute_moseq_df(project_dir, model_dirname, index_file, \n",
    "                                 smooth_heading=True) # whether the output heading is smoothed or not\n",
    "print('moseq_df size: ', moseq_df.shape[0], 'rows;', moseq_df.shape[1], 'columns')\n",
    "moseq_df.head()"
   ]
  },
  {
   "attachments": {},
   "cell_type": "markdown",
   "metadata": {},
   "source": [
    "## Export `moseq_df`\n",
    "\n",
    "You can export the `moseq_df` to a csv file to `{project_dir}/{model_dirname}/moseq_df.csv`."
   ]
  },
  {
   "cell_type": "code",
   "execution_count": null,
   "metadata": {},
   "outputs": [],
   "source": [
    "# Save `moseq_df` as a csv file\n",
    "import os\n",
    "\n",
    "# Specify the path you want to save the dataframe in `save_path`\n",
    "save_path=os.path.join(project_dir, model_dirname) # default the dataframe is saved in the model directory\n",
    "\n",
    "# exports the dataframe\n",
    "filename='moseq_df.csv'\n",
    "moseq_df.to_csv(os.path.join(save_path, filename), index=False)\n",
    "\n",
    "print('DataFrame is saved:', os.path.join(save_path, filename))"
   ]
  },
  {
   "attachments": {},
   "cell_type": "markdown",
   "metadata": {},
   "source": [
    "## Compute `stats_df`\n",
    "`stats_df` is a `DataFrame` that contains statistical summaries (i.e., min, max, mean, std) of scalar values (kinematic values such as heading and velocity) associated with each syllable, as well as the frequency each syllable is expressed."
   ]
  },
  {
   "cell_type": "code",
   "execution_count": null,
   "metadata": {},
   "outputs": [],
   "source": [
    "stats_df=kpms.compute_stats_df(\n",
    "                               moseq_df, threshold=0.005, # threshold for syllable usage to include in the dataframe\n",
    "                               groupby=['group', 'file_name'], # the column(s) to group the dataframe by\n",
    "                               fps=fps, # frame rate of the video\n",
    "                               syll_key='syllables_reindexed', # syllable key ('syllables' or 'syllables_reindexed')\n",
    "                               normalize=True) # syllable usages within one session add up to 1 when True\n",
    "print('The shape of stats_df', stats_df.shape)\n",
    "stats_df.head()"
   ]
  },
  {
   "attachments": {},
   "cell_type": "markdown",
   "metadata": {},
   "source": [
    "## Export `stats_df`\n",
    "\n",
    "You can export the `stats_df` to a csv file to `{project_dir}/{model_dirname}/stats_df.csv`."
   ]
  },
  {
   "cell_type": "code",
   "execution_count": null,
   "metadata": {},
   "outputs": [],
   "source": [
    "# exports the dataframe\n",
    "filename='stats_df.csv'\n",
    "stats_df.to_csv(os.path.join(save_path, filename), index=False)\n",
    "\n",
    "print('DataFrame is saved:', os.path.join(save_path, filename))"
   ]
  },
  {
   "attachments": {},
   "cell_type": "markdown",
   "metadata": {},
   "source": [
    "## Generate Behavioral Summary (Fingerprints)\n",
    "Fingerprints summarize behavior by showing distributions of scalars (eg. position, velocity, height, and length) and syllables."
   ]
  },
  {
   "cell_type": "code",
   "execution_count": null,
   "metadata": {},
   "outputs": [],
   "source": [
    "summary, range_dict = kpms.create_fingerprint_dataframe(moseq_df, stats_df, \n",
    "                                                        stat_type='mean', # the type of statistics to plot (\"mean\", \"min\", or \"max\")\n",
    "                                                        n_bins=100, # the number fo bins that indicates resolution of distribution \n",
    "                                                        range_type='robust') # range type for stats, robust filters out top and bottom 1% (\"robust\" or \"full\")\n",
    "kpms.plotting_fingerprint(summary, range_dict, \n",
    "                          save_dir=save_dir, # path to the directory to save the figure\n",
    "                          preprocessor_type='minmax') # data preprocessor for the fingerprint (\"minmax\", \"standard\", or \"none\")"
   ]
  },
  {
   "attachments": {},
   "cell_type": "markdown",
   "metadata": {},
   "source": [
    "#  Syllable Visualization and Labelling Tool\n",
    "Syllables can be visualized in the form of trajectory plots, crowd movies, and grid movies. "
   ]
  },
  {
   "attachments": {},
   "cell_type": "markdown",
   "metadata": {},
   "source": [
    "## Display trajectory plots"
   ]
  },
  {
   "cell_type": "code",
   "execution_count": null,
   "metadata": {
    "scrolled": false
   },
   "outputs": [],
   "source": [
    "kpms.show_trajectory_gif(project_dir, model_dirname, \n",
    "                         video_dir='dlc_project/videos', # the path to the input keypoint videos\n",
    "                         keypoint_data_type='deeplabcut') # the type of keypoint data (\"deeplabcut\" or \"sleap\")"
   ]
  },
  {
   "attachments": {},
   "cell_type": "markdown",
   "metadata": {},
   "source": [
    "## Syllable labeling tool\n",
    "\n",
    "**Instructions:**\n",
    "- **Run the following cell.** Specify the movie type to show if necessary. The default is displaying grid movies.\n",
    "- **Input the syllable behavioral label and short description** in the text fields.\n",
    "- Click `Save Setting` to save the syllable label and description for later analysis.\n",
    "- Use `Next` and `Previous` to navigate between syllables and the syllable label and description will be automatically saved when using these buttons.\n",
    "\n",
    "Notes: If the widget crashes, please restart the notebook kernel and run the cell again."
   ]
  },
  {
   "cell_type": "code",
   "execution_count": null,
   "metadata": {},
   "outputs": [],
   "source": [
    "kpms.label_syllables(project_dir, model_dirname, \n",
    "                     video_dir='dlc_project/videos', # the path to the input keypoint videos\n",
    "                     keypoint_data_type='deeplabcut', # the type of keypoint data (\"deeplabcut\" or \"sleap\")\n",
    "                     movie_type='grid') # type of movie to show (\"grid\" or \"crowd\")"
   ]
  },
  {
   "attachments": {},
   "cell_type": "markdown",
   "metadata": {},
   "source": [
    "# Syllable Statistics Graphing\n",
    "Syllable statistics provide information about the behavioral patterns."
   ]
  },
  {
   "cell_type": "code",
   "execution_count": null,
   "metadata": {},
   "outputs": [],
   "source": [
    "# ordering of syllables, could be 'stat' or 'diff'\n",
    "order='stat'\n",
    "# statistic to be plotted, could be ,'duration','velocity_px_s_mean'\n",
    "stat='frequency'\n",
    "# groups to be plotted\n",
    "groups=stats_df['group'].unique()\n",
    "# name of the control group\n",
    "ctrl_group='a'\n",
    "# name of the experimental group\n",
    "exp_group='b'\n",
    "# boolean for whether the dots are connected\n",
    "join=False\n",
    "# boolean for whether to plot the significant stars\n",
    "plot_sig=True\n",
    "# significance threshold\n",
    "thresh=0.05\n",
    "\n",
    "kpms.plot_syll_stats_with_sem(stats_df, project_dir, model_dirname, \n",
    "                              save_dir=save_dir, # path to the directory to save the figure\n",
    "                              plot_sig=True, # whether to plot the significant stars, plot the stars when True\n",
    "                              thresh=0.05, # significance threshold\n",
    "                              stat='frequency', # statistic to be plotted ('duration' or 'velocity_px_s_mean')\n",
    "                              order='stat', # ordering of syllables, could be 'stat' or 'diff'\n",
    "                              groups=stats_df['group'].unique(), # groups to be plotted\n",
    "                              ctrl_group='a', # name of the control group\n",
    "                              exp_group='b', # name of the experimental group\n",
    "                              join=False, # whether the dots are connected, connected when True\n",
    "                              figsize=(10, 5)) # figure size                       "
   ]
  },
  {
   "attachments": {},
   "cell_type": "markdown",
   "metadata": {},
   "source": [
    "## Transition matrices\n",
    "Transition matrices compactly represent the frequency any syllable transitions into any other syllable and is one way to describe structure in behavior."
   ]
  },
  {
   "cell_type": "code",
   "execution_count": null,
   "metadata": {
    "scrolled": true
   },
   "outputs": [],
   "source": [
    "trans_mats, usages, groups=kpms.generate_transition_matrices(project_dir, model_dirname, \n",
    "                                                             normalize='bigram', # matrix normalization methods (\"bigram\", \"rows\" or \"columns\")\n",
    "                                                             max_syllable=20) # maximum number of syllables to include\n",
    "kpms.visualize_transition_bigram(groups, trans_mats, \n",
    "                                 save_dir=save_dir, # path to the directory to save the figure\n",
    "                                 normalize='bigram') # matrix normalization methods (\"bigram\", \"rows\" or \"columns\")"
   ]
  },
  {
   "attachments": {},
   "cell_type": "markdown",
   "metadata": {},
   "source": [
    "## Syllable Transition Graph\n",
    "Transition matrices can also be visualized as directed graphs, where each node of the graph represents one syllable, and the directional edges represent transitions between syllables."
   ]
  },
  {
   "cell_type": "code",
   "execution_count": null,
   "metadata": {},
   "outputs": [],
   "source": [
    "kpms.plot_transition_graph_group(groups, trans_mats,usages, \n",
    "                                 save_dir=save_dir, # path to the directory to save the figure\n",
    "                                 layout='circular') # transition graph layout (\"circular\" or \"spring\")"
   ]
  },
  {
   "cell_type": "code",
   "execution_count": null,
   "metadata": {},
   "outputs": [],
   "source": [
    "layout='circular' # could be circular or spring\n",
    "kpms.plot_transition_graph_difference(groups, trans_mats,usages, \n",
    "                                      save_dir=save_dir, # path to the directory to save the figure\n",
    "                                      layout='circular') # transition graph layout (\"circular\" or \"spring\")"
   ]
  }
 ],
 "metadata": {
  "kernelspec": {
   "display_name": "Python 3 (ipykernel)",
   "language": "python",
   "name": "python3"
  },
  "language_info": {
   "codemirror_mode": {
    "name": "ipython",
    "version": 3
   },
   "file_extension": ".py",
   "mimetype": "text/x-python",
   "name": "python",
   "nbconvert_exporter": "python",
   "pygments_lexer": "ipython3",
   "version": "3.9.16"
  },
  "toc": {
   "base_numbering": 1,
   "nav_menu": {},
   "number_sections": true,
   "sideBar": true,
   "skip_h1_title": false,
   "title_cell": "Table of Contents",
   "title_sidebar": "Contents",
   "toc_cell": false,
   "toc_position": {},
   "toc_section_display": true,
   "toc_window_display": false
  }
 },
 "nbformat": 4,
 "nbformat_minor": 2
}
